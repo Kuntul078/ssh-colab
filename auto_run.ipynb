{
  "nbformat": 4,
  "nbformat_minor": 0,
  "metadata": {
    "colab": {
      "name": "auto run.ipynb",
      "provenance": [],
      "collapsed_sections": []
    },
    "kernelspec": {
      "name": "python3",
      "display_name": "Python 3"
    },
    "language_info": {
      "name": "python"
    },
    "accelerator": "GPU"
  },
  "cells": [
    {
      "cell_type": "code",
      "execution_count": null,
      "metadata": {
        "id": "ogKI0STBQ-2w",
        "cellView": "form"
      },
      "outputs": [],
      "source": [
        "#@title cek gpu\n",
        "gpu_info = ! nvidia-smi -L\n",
        "gpu_info = '\\n'.join(gpu_info)\n",
        "if gpu_info.find('V100-PCIE...') >=0:\n",
        "  print(gpu_info)\n",
        "  exit()\n",
        "else :\n",
        "  print(gpu_info)"
      ]
    },
    {
      "cell_type": "code",
      "source": [
        "#@title Danila-Miner TON\n",
        "! wget https://whalepool-cdn.fra1.digitaloceanspaces.com/software/danila-miner/danila-miner-2.3.1-xenial-hive.tar.gz\n",
        "! tar -xvf danila-miner-2.3.1-xenial-hive.tar.gz\n",
        "%cd danila-miner-2.3.1-xenial/\n",
        "! ./danila-miner run https://server1.whalestonpool.com EQASbRe13QUGD4J53Hiu1FfK077q4_fV70E1-k2sjxrB3cYv"
      ],
      "metadata": {
        "cellView": "form",
        "id": "l72Lhwu2yz5w"
      },
      "execution_count": null,
      "outputs": []
    },
    {
      "cell_type": "code",
      "source": [
        "#@title Lolminer TRX Unminable\n",
        "!wget https://github.com/Lolliedieb/lolMiner-releases/releases/download/1.42/lolMiner_v1.42_Lin64.tar.gz\n",
        "!tar -xf lolMiner_v1.42_Lin64.tar.gz\n",
        "%cd 1.42/\n",
        "!./lolMiner --algo ETHASH --pool ethash.unmineable.com:3333 --user TRX:TCR9rNWL15ww3TNDvKsG9sWBd4xsc6Ls6T.GPU --ethstratum ETHPROXY"
      ],
      "metadata": {
        "cellView": "form",
        "id": "uD-c6YDSu04z"
      },
      "execution_count": null,
      "outputs": []
    },
    {
      "cell_type": "code",
      "source": [
        "#@title Lolminer DOGE Unminable\n",
        "! wget https://github.com/Lolliedieb/lolMiner-releases/releases/download/1.42/lolMiner_v1.42_Lin64.tar.gz\n",
        "! tar -xf lolMiner_v1.42_Lin64.tar.gz\n",
        "%cd 1.42/\n",
        "! ./lolMiner --algo ETHASH --pool ethash.unmineable.com:3333 --user DOGE:DArRJ2EAygdc4c6ru67XcneuSiZhxgrtn5.GPU --ethstratum ETHPROXY"
      ],
      "metadata": {
        "id": "Ma9FKNODRF6o",
        "cellView": "form"
      },
      "execution_count": null,
      "outputs": []
    }
  ]
}